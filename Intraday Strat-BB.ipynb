{
 "cells": [
  {
   "cell_type": "code",
   "execution_count": null,
   "metadata": {},
   "outputs": [],
   "source": [
    "import sys\n",
    "sys.path.append('/Library/Frameworks/Python.framework/Versions/3.6/lib/python3.6/site-packages')\n",
    "import requests, re\n",
    "import pandas as pd\n",
    "import warnings\n",
    "warnings.filterwarnings('ignore')\n",
    "import numpy as np\n",
    "import datetime\n",
    "import talib\n",
    "import math\n",
    "import matplotlib.pyplot as plt\n",
    "from datetime import date"
   ]
  },
  {
   "cell_type": "code",
   "execution_count": null,
   "metadata": {},
   "outputs": [],
   "source": [
    "def get_candle_df(df , frequency):\n",
    "    candle_df = pd.DataFrame()\n",
    "    \n",
    "    candle_df['candle_high']=df.resample(frequency).apply(lambda x : x.High.max()).dropna()\n",
    "    candle_df['candle_low']=df.resample(frequency).apply(lambda x : x.Low.min()).dropna()\n",
    "    candle_df['candle_open'] = df.resample(frequency, convention='start').asfreq().Open\n",
    "    candle_df['candle_close'] = df.resample(frequency , convention = 'end').asfreq().Close\n",
    "    candle_df['rsi'] = df.resample(frequency , convention = 'end').asfreq().rsi\n",
    "    \n",
    "    return candle_df"
   ]
  },
  {
   "cell_type": "code",
   "execution_count": null,
   "metadata": {},
   "outputs": [],
   "source": [
    "def BBand(df, base='candle_close', period=5, multiplier=3):\n",
    " \n",
    "    upper = 'BB_' + str(period) + '_' + str(multiplier)\n",
    "    #lower = 'LowerBB_' + str(period) + '_' + str(multiplier)\n",
    "    \n",
    "    sma = df[base].rolling(window=period, min_periods=period - 1).mean()\n",
    "    sd = df[base].rolling(window=period).std()\n",
    "    df[upper] = sma + (multiplier * sd)\n",
    "    #df[lower] = sma - (multiplier * sd)\n",
    "    \n",
    "    df[upper].fillna(0, inplace=True)\n",
    "    #df[lower].fillna(0, inplace=True)\n",
    "    \n",
    "    return df\n",
    "\n",
    "# use multiplier +1 for upper and -1 for lower"
   ]
  },
  {
   "cell_type": "code",
   "execution_count": null,
   "metadata": {},
   "outputs": [],
   "source": [
    "tickers = pd.read_csv(r'A:/finance_stuff/nifty_100/ind_nifty100list.csv')['Symbol'].to_list()"
   ]
  },
  {
   "cell_type": "code",
   "execution_count": null,
   "metadata": {},
   "outputs": [],
   "source": [
    "def df_setup(ticker):\n",
    "    df=pd.read_csv(r'A:\\finance_stuff\\Intraday_Data\\\\' + str(ticker) + '.csv')\n",
    "     #datetime\n",
    "    rsi = talib.RSI(df.Close , timeperiod =60)\n",
    "    df['rsi'] = rsi\n",
    "        \n",
    "    df['Time']=pd.to_datetime(df['Time'].apply(lambda x: x.split('+')[0]))\n",
    "    df.set_index('Time',inplace=True)\n",
    "     #candle\n",
    "    candle_df = get_candle_df(df,'3T')\n",
    "    #BB data\n",
    "    bb_df = BBand(candle_df, period = 100 , multiplier = 0)\n",
    "    bb_df = BBand(candle_df, period = 100, multiplier = 1)\n",
    "    bb_df = BBand(candle_df, period = 100, multiplier = 2)\n",
    "    bb_df = BBand(candle_df, period = 100, multiplier = -1)\n",
    "    bb_df = BBand(candle_df, period = 100, multiplier = -2)\n",
    "    \n",
    "    bb_df.dropna(inplace = True)\n",
    "    \n",
    "    return bb_df"
   ]
  },
  {
   "cell_type": "code",
   "execution_count": null,
   "metadata": {},
   "outputs": [],
   "source": [
    "def BB_tradebook(df):\n",
    "    data = df\n",
    "    result = df\n",
    "    \n",
    "    trade_book_long={}\n",
    "    trade_book_short={}\n",
    "    position=0\n",
    "    sl=0.0025\n",
    "    tp=0.005\n",
    "    p=0\n",
    "    entry_price=0\n",
    "    entry_price_s=0\n",
    "    exit_price=0\n",
    "    exit_price_s=0\n",
    "   \n",
    "    for i in range(101, len(data.index)):\n",
    "        if ((position == 0)&(result.loc[ data.index[i-1] ,'rsi'] > 50 )\n",
    "            &(result.loc[ data.index[i-1] ,'candle_high']>result.loc[data.index[i-1],'BB_100_1'])\n",
    "            &(result.loc[ data.index[i-1] ,'candle_low']<result.loc[data.index[i-1],'BB_100_2'])):\n",
    "            \n",
    "            rsi = result.loc[ data.index[i] ,'rsi']\n",
    "            position=1\n",
    "            time=data.index[i]\n",
    "            entry_time_l=time\n",
    "            #print('position entered at {}'.format(time))\n",
    "    #             x.at[i,'position']=1\n",
    "            entry_price=data.loc[data.index[i],'candle_open']\n",
    "            #print(entry_price)\n",
    "        elif ((position == 0)&(result.loc[ data.index[i-1] ,'rsi'] < 50 ) \n",
    "              &(result.loc[ data.index[i-1] ,'candle_low']<result.loc[data.index[i-1],'BB_100_-1'])\n",
    "              &(result.loc[ data.index[i-1] ,'candle_high']>result.loc[data.index[i-1],'BB_100_-2'])):\n",
    "            \n",
    "            \n",
    "            rsi = result.loc[ data.index[i] ,'rsi']\n",
    "            position=-1\n",
    "            time_s=data.index[i]\n",
    "            entry_time_s=time_s\n",
    "            #print('short position entered at {}'.format(time_s))\n",
    "    #             x.at[i,'position']=1\n",
    "            entry_price_s=data.loc[data.index[i],'candle_open']\n",
    "            #print(entry_price_s)\n",
    "        elif ((position == 1)&(result.loc[ data.index[i-1] ,'candle_low']>result.loc[data.index[i-1],'BB_100_2'])):\n",
    "\n",
    "            position=0\n",
    "            time=data.index[i]\n",
    "            #print('long position exited at {}'.format(time))\n",
    "    #             x.at[i,'position']=-1\n",
    "            exit_price=data.loc[data.index[i],'candle_open']\n",
    "            profit=exit_price-entry_price\n",
    "            exit_time=time\n",
    "            trade_book_long[entry_time_l]=[entry_price,exit_price,profit,exit_time,rsi,'LONG']\n",
    "            #print(exit_price)        \n",
    "            #print(profit)\n",
    "            \n",
    "        elif ((position == 1)&((result.loc[ data.index[i-1] ,'candle_low']<result.loc[data.index[i-1],'BB_100_0']) |\n",
    "                              (result.loc[ data.index[i-1] ,'candle_low'] < (entry_price*.99) ))):\n",
    "\n",
    "            position=0\n",
    "            time=data.index[i]\n",
    "            #print('long position stop loss at {}'.format(time))\n",
    "    #             x.at[i,'position']=-1\n",
    "            exit_price=data.loc[data.index[i],'candle_open']\n",
    "            profit=exit_price-entry_price\n",
    "            exit_time=time\n",
    "            trade_book_long[entry_time_l]=[entry_price,exit_price,profit,exit_time,rsi,'LONG']\n",
    "            #print(exit_price)        \n",
    "            #print(profit)\n",
    "            \n",
    "        elif ((position == -1)&(result.loc[ data.index[i-1] ,'candle_high']<result.loc[data.index[i-1],'BB_100_-2'])):\n",
    "            \n",
    "            position=0\n",
    "            time=data.index[i]\n",
    "            #print('short position exited at {}'.format(time))\n",
    "    #             x.at[i,'position']=-1\n",
    "            exit_price_s=data.loc[data.index[i],'candle_open']\n",
    "            profit=entry_price_s-exit_price_s\n",
    "            exit_time_s=time\n",
    "            trade_book_short[entry_time_s]=[entry_price_s,exit_price_s,profit,exit_time_s,rsi,'SHORT']\n",
    "            #print(exit_price_s)        \n",
    "            #print(profit)\n",
    "        \n",
    "        elif ((position == -1)&((result.loc[ data.index[i-1] ,'candle_high']>result.loc[data.index[i-1],'BB_100_0'])|\n",
    "                               (result.loc[ data.index[i-1] ,'candle_high'] > (entry_price_s*1.01)))):\n",
    "            \n",
    "            position=0\n",
    "            time=data.index[i]\n",
    "            #print('short position stop loss at {}'.format(time))\n",
    "    #             x.at[i,'position']=-1\n",
    "            exit_price_s=data.loc[data.index[i],'candle_open']\n",
    "            profit=entry_price_s-exit_price_s\n",
    "            exit_time_s=time\n",
    "            trade_book_short[entry_time_s]=[entry_price_s,exit_price_s,profit,exit_time_s,rsi,'SHORT']\n",
    "            #print(exit_price_s)        \n",
    "            #print(profit)\n",
    "            \n",
    "        elif ((position==1)&(data.index[i].time()==datetime.time(15, 27))):\n",
    "            position=0\n",
    "            time=data.index[i]\n",
    "            #print('long position covered at {}'.format(time))\n",
    "    #             x.at[i,'position']=-1\n",
    "            exit_price=data.loc[data.index[i],'candle_close']\n",
    "            profit=exit_price-entry_price\n",
    "            exit_time=time\n",
    "            trade_book_long[entry_time_l]=[entry_price,exit_price,profit,exit_time,rsi,'LONG']\n",
    "            #print(exit_price)\n",
    "            #print(profit)\n",
    "        elif ((position==-1)&(data.index[i].time()==datetime.time(15, 27))):\n",
    "            position=0\n",
    "            time=data.index[i]\n",
    "            #print('short position covered at {}'.format(time))\n",
    "    #             x.at[i,'position']=-1\n",
    "            exit_price_s=data.loc[data.index[i],'candle_close']\n",
    "            profit=entry_price_s-exit_price_s\n",
    "            exit_time_s=time\n",
    "            trade_book_short[entry_time_s]=[entry_price_s,exit_price_s,profit,exit_time_s,rsi,'SHORT']\n",
    "            #print(exit_price_s)\n",
    "            #print(profit)\n",
    "    s1=pd.DataFrame(trade_book_long).T\n",
    "    s2 = pd.DataFrame(trade_book_short).T\n",
    "    \n",
    "    df1 = pd.concat([s1,s2])\n",
    "    \n",
    "    df1.sort_index(inplace = True)\n",
    "    return df1"
   ]
  },
  {
   "cell_type": "code",
   "execution_count": null,
   "metadata": {},
   "outputs": [],
   "source": [
    "def get_pl(df):  \n",
    "    money = 100000\n",
    "    pl = []\n",
    "    for i in df.index:\n",
    "        a1 = math.floor(money/df[0][i])\n",
    "        money = money + (a1*df[2][i])\n",
    "        pl.append(money)\n",
    "    return pl"
   ]
  },
  {
   "cell_type": "code",
   "execution_count": null,
   "metadata": {},
   "outputs": [],
   "source": [
    "def BB_strat_backtest(ticker):\n",
    "    df = df_setup(ticker)\n",
    "    df = BB_tradebook(df)\n",
    "    a1 = get_pl(df)\n",
    "    \n",
    "    df['money'] = a1\n",
    "    \n",
    "    df.to_csv(r'A:\\finance_stuff\\50x\\attempts\\BB\\\\' + str(ticker) + '_BB.csv')\n",
    "    \n",
    "    return df"
   ]
  },
  {
   "cell_type": "code",
   "execution_count": null,
   "metadata": {},
   "outputs": [],
   "source": [
    "profit_compound = dict()\n",
    "profit_simple = dict()\n",
    "for i in tickers:\n",
    "    try:\n",
    "        df = BB_strat_backtest(i)\n",
    "        a1 = ((df['money'].iloc[-1]) - 100000)/1000\n",
    "        a2 = (sum(df['2'])/df['0'].iloc[0])*100\n",
    "        profit_simple[i] = a2\n",
    "        profit_compound[i] = a1\n",
    "        print(i)\n",
    "    except:\n",
    "        pass"
   ]
  },
  {
   "cell_type": "code",
   "execution_count": null,
   "metadata": {},
   "outputs": [],
   "source": [
    "df1 = pd.DataFrame(profit_simple).T\n",
    "df2 = pd.DataFrame(profit_compound).T\n",
    "df1.to_csv(r'A:\\finance_stuff\\50x\\attempts\\BB\\\\' + str('profit_simple') + '_BB.csv')\n",
    "df2.to_csv(r'A:\\finance_stuff\\50x\\attempts\\BB\\\\' + str('profit_compound') + '_BB.csv')        "
   ]
  },
  {
   "cell_type": "code",
   "execution_count": null,
   "metadata": {},
   "outputs": [],
   "source": [
    "profit_compound"
   ]
  },
  {
   "cell_type": "code",
   "execution_count": null,
   "metadata": {},
   "outputs": [],
   "source": [
    "profit_simple"
   ]
  },
  {
   "cell_type": "code",
   "execution_count": null,
   "metadata": {},
   "outputs": [],
   "source": [
    "result = pd.DataFrame(index = profit_simple.keys())"
   ]
  },
  {
   "cell_type": "code",
   "execution_count": null,
   "metadata": {},
   "outputs": [],
   "source": [
    "result['simple'] = profit_simple.values()"
   ]
  },
  {
   "cell_type": "code",
   "execution_count": null,
   "metadata": {},
   "outputs": [],
   "source": [
    "result['compound']=  profit_compound.values()"
   ]
  },
  {
   "cell_type": "code",
   "execution_count": null,
   "metadata": {},
   "outputs": [],
   "source": [
    "result.to_csv(r'A:\\finance_stuff\\50x\\attempts\\BB\\\\' + str('result') + '_BB.csv')"
   ]
  },
  {
   "cell_type": "code",
   "execution_count": null,
   "metadata": {},
   "outputs": [],
   "source": []
  }
 ],
 "metadata": {
  "kernelspec": {
   "display_name": "Python 3",
   "language": "python",
   "name": "python3"
  },
  "language_info": {
   "codemirror_mode": {
    "name": "ipython",
    "version": 3
   },
   "file_extension": ".py",
   "mimetype": "text/x-python",
   "name": "python",
   "nbconvert_exporter": "python",
   "pygments_lexer": "ipython3",
   "version": "3.7.3"
  }
 },
 "nbformat": 4,
 "nbformat_minor": 2
}
